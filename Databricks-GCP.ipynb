{
 "cells": [
  {
   "cell_type": "markdown",
   "metadata": {
    "application/vnd.databricks.v1+cell": {
     "cellMetadata": {
      "byteLimit": 2048000,
      "rowLimit": 10000
     },
     "inputWidgets": {},
     "nuid": "0c6cf891-ed5d-40a6-accf-d77f0c025538",
     "showTitle": false,
     "title": ""
    }
   },
   "source": [
    "# Summary\n",
    "- Data : Bing Corona Virus Search Data (https://github.com/microsoft/BingCoronavirusQuerySet)\n",
    "\n",
    "- Objectives : Using Bing Search Data relavant to Corona Virus in 2021 from various countries, see the search trends and plot using line/scatter/bubble plots.\n",
    "\n",
    "> 1) Visualize trends of overall searches/searches by countries using line and scatter plots\n",
    "\n",
    "> 2) Visualize keywords with most searches on a map."
   ]
  },
  {
   "cell_type": "code",
   "execution_count": 0,
   "metadata": {
    "application/vnd.databricks.v1+cell": {
     "cellMetadata": {
      "byteLimit": 2048000,
      "rowLimit": 10000
     },
     "inputWidgets": {},
     "nuid": "c61f03eb-243b-4c79-b298-b39f12c55885",
     "showTitle": false,
     "title": ""
    }
   },
   "outputs": [],
   "source": [
    "from datetime import datetime\n",
    "\n",
    "from geopy.geocoders import Nominatim\n",
    "import numpy as np\n",
    "import pandas as pd\n",
    "import plotly.express as px\n",
    "import plotly.graph_objects as go\n",
    "import pyspark"
   ]
  },
  {
   "cell_type": "code",
   "execution_count": 0,
   "metadata": {
    "application/vnd.databricks.v1+cell": {
     "cellMetadata": {
      "byteLimit": 2048000,
      "rowLimit": 10000
     },
     "inputWidgets": {},
     "nuid": "548cec0e-7823-4822-ba70-7c5fcf6185de",
     "showTitle": false,
     "title": ""
    }
   },
   "outputs": [],
   "source": [
    "def retrieve_column(array, col):\n",
    "    try:\n",
    "        return array[col]\n",
    "    except:\n",
    "        pass\n",
    "\n",
    "    \n",
    "def convert_string_to_timestamp(string):\n",
    "    try:\n",
    "        return datetime.strptime(string, '%Y-%M-%d').date()\n",
    "    except:\n",
    "        pass\n",
    "\n",
    "\n",
    "def string_to_int(x):\n",
    "    try:\n",
    "        return int(x)\n",
    "    except:\n",
    "        return 0"
   ]
  },
  {
   "cell_type": "markdown",
   "metadata": {
    "application/vnd.databricks.v1+cell": {
     "cellMetadata": {},
     "inputWidgets": {},
     "nuid": "8f63e0c8-7555-4ac1-afed-a34142c21660",
     "showTitle": false,
     "title": ""
    }
   },
   "source": [
    "## Connect to GCP Cloud Storage\n",
    "- In order to allow the Databrick to read from your GCS bucket, you need to create a GCP Service Account with a proper role (ex. Storage Admin) and add to your cluster.\n",
    "- Go to your project in GCP => IAM & Admin => Service Account => Create Service Account\n",
    "- Create an account with Storage Admin (or something that gives a storage access) and copy its Principal."
   ]
  },
  {
   "cell_type": "code",
   "execution_count": 0,
   "metadata": {
    "application/vnd.databricks.v1+cell": {
     "cellMetadata": {
      "byteLimit": 2048000,
      "rowLimit": 10000
     },
     "inputWidgets": {},
     "nuid": "ef8dcf49-8343-4edd-ba06-72733b56a982",
     "showTitle": false,
     "title": ""
    }
   },
   "outputs": [
    {
     "output_type": "display_data",
     "data": {
      "text/plain": [
       "\u001B[0;31m---------------------------------------------------------------------------\u001B[0m\n",
       "\u001B[0;31mModuleNotFoundError\u001B[0m                       Traceback (most recent call last)\n",
       "File \u001B[0;32m<command-3877317448685664>, line 3\u001B[0m\n",
       "\u001B[1;32m      1\u001B[0m \u001B[38;5;28;01mfrom\u001B[39;00m \u001B[38;5;21;01mdatetime\u001B[39;00m \u001B[38;5;28;01mimport\u001B[39;00m datetime\n",
       "\u001B[0;32m----> 3\u001B[0m \u001B[38;5;28;01mfrom\u001B[39;00m \u001B[38;5;21;01mgeopy\u001B[39;00m\u001B[38;5;21;01m.\u001B[39;00m\u001B[38;5;21;01mgeocoders\u001B[39;00m \u001B[38;5;28;01mimport\u001B[39;00m Nominatim\n",
       "\u001B[1;32m      4\u001B[0m \u001B[38;5;28;01mimport\u001B[39;00m \u001B[38;5;21;01mnumpy\u001B[39;00m \u001B[38;5;28;01mas\u001B[39;00m \u001B[38;5;21;01mnp\u001B[39;00m\n",
       "\u001B[1;32m      5\u001B[0m \u001B[38;5;28;01mimport\u001B[39;00m \u001B[38;5;21;01mpandas\u001B[39;00m \u001B[38;5;28;01mas\u001B[39;00m \u001B[38;5;21;01mpd\u001B[39;00m\n",
       "\n",
       "\u001B[0;31mModuleNotFoundError\u001B[0m: No module named 'geopy'"
      ]
     },
     "metadata": {
      "application/vnd.databricks.v1+output": {
       "addedWidgets": {},
       "arguments": {},
       "datasetInfos": [],
       "jupyterProps": {
        "ename": "ModuleNotFoundError",
        "evalue": "No module named 'geopy'"
       },
       "metadata": {
        "errorSummary": ""
       },
       "removedWidgets": [],
       "sqlProps": null,
       "stackFrames": [
        "\u001B[0;31m---------------------------------------------------------------------------\u001B[0m",
        "\u001B[0;31mModuleNotFoundError\u001B[0m                       Traceback (most recent call last)",
        "File \u001B[0;32m<command-3877317448685664>, line 3\u001B[0m\n\u001B[1;32m      1\u001B[0m \u001B[38;5;28;01mfrom\u001B[39;00m \u001B[38;5;21;01mdatetime\u001B[39;00m \u001B[38;5;28;01mimport\u001B[39;00m datetime\n\u001B[0;32m----> 3\u001B[0m \u001B[38;5;28;01mfrom\u001B[39;00m \u001B[38;5;21;01mgeopy\u001B[39;00m\u001B[38;5;21;01m.\u001B[39;00m\u001B[38;5;21;01mgeocoders\u001B[39;00m \u001B[38;5;28;01mimport\u001B[39;00m Nominatim\n\u001B[1;32m      4\u001B[0m \u001B[38;5;28;01mimport\u001B[39;00m \u001B[38;5;21;01mnumpy\u001B[39;00m \u001B[38;5;28;01mas\u001B[39;00m \u001B[38;5;21;01mnp\u001B[39;00m\n\u001B[1;32m      5\u001B[0m \u001B[38;5;28;01mimport\u001B[39;00m \u001B[38;5;21;01mpandas\u001B[39;00m \u001B[38;5;28;01mas\u001B[39;00m \u001B[38;5;21;01mpd\u001B[39;00m\n",
        "\u001B[0;31mModuleNotFoundError\u001B[0m: No module named 'geopy'"
       ],
       "type": "baseError"
      }
     },
     "output_type": "display_data"
    }
   ],
   "source": [
    "bing_inputs = sc.wholeTextFiles(\"gs://usf-databricks-gcp/Bing_Searches\")"
   ]
  },
  {
   "cell_type": "code",
   "execution_count": 0,
   "metadata": {
    "application/vnd.databricks.v1+cell": {
     "cellMetadata": {
      "byteLimit": 2048000,
      "rowLimit": 10000
     },
     "inputWidgets": {},
     "nuid": "41d83374-f16c-431f-a872-2919c9e8f0d3",
     "showTitle": false,
     "title": ""
    }
   },
   "outputs": [],
   "source": [
    "bing_inputs.collect()"
   ]
  },
  {
   "cell_type": "code",
   "execution_count": 0,
   "metadata": {
    "application/vnd.databricks.v1+cell": {
     "cellMetadata": {
      "byteLimit": 2048000,
      "rowLimit": 10000
     },
     "inputWidgets": {},
     "nuid": "2fb32fe4-ab90-40b2-86b0-c79f28214d0e",
     "showTitle": false,
     "title": ""
    }
   },
   "outputs": [],
   "source": [
    "input = bing_inputs.map(lambda x: x[1]).flatMap(lambda x : x.split(\"\\n\"))"
   ]
  },
  {
   "cell_type": "code",
   "execution_count": 0,
   "metadata": {
    "application/vnd.databricks.v1+cell": {
     "cellMetadata": {
      "byteLimit": 2048000,
      "rowLimit": 10000
     },
     "inputWidgets": {},
     "nuid": "3f44e985-76f0-4b69-ac38-441367f3e47d",
     "showTitle": false,
     "title": ""
    }
   },
   "outputs": [],
   "source": [
    "parsed_input = input.map(lambda x : x.split(\"\\t\"))\\\n",
    "                    .map(lambda x : [convert_string_to_timestamp(retrieve_column(x, 0)),\n",
    "                                     retrieve_column(x, 1), \n",
    "                                     retrieve_column(x, 2),\n",
    "                                     retrieve_column(x, 3),\n",
    "                                     retrieve_column(x, 4), \n",
    "                                     string_to_int(retrieve_column(x,5))])\\\n",
    "                    .cache()"
   ]
  },
  {
   "cell_type": "markdown",
   "metadata": {
    "application/vnd.databricks.v1+cell": {
     "cellMetadata": {
      "byteLimit": 2048000,
      "rowLimit": 10000
     },
     "inputWidgets": {},
     "nuid": "0cc1f278-d82e-4b97-8817-22b97e06f0f9",
     "showTitle": false,
     "title": ""
    }
   },
   "source": [
    "# Display Daily Count \n",
    "\n",
    "Create a line chart showing daily counts\n",
    "\n",
    "It shows there are patterns in 7 days, where Thursday has the highest value."
   ]
  },
  {
   "cell_type": "code",
   "execution_count": 0,
   "metadata": {
    "application/vnd.databricks.v1+cell": {
     "cellMetadata": {
      "byteLimit": 2048000,
      "rowLimit": 10000
     },
     "inputWidgets": {},
     "nuid": "7b9d5331-c694-4f29-ba83-66fab0d76da9",
     "showTitle": false,
     "title": ""
    }
   },
   "outputs": [
    {
     "output_type": "display_data",
     "data": {
      "text/html": [
       "<html>\n",
       "<head><meta charset=\"utf-8\" /></head>\n",
       "<body>\n",
       "    <div>            <script src=\"https://cdnjs.cloudflare.com/ajax/libs/mathjax/2.7.5/MathJax.js?config=TeX-AMS-MML_SVG\"></script><script type=\"text/javascript\">if (window.MathJax && window.MathJax.Hub && window.MathJax.Hub.Config) {window.MathJax.Hub.Config({SVG: {font: \"STIX-Web\"}});}</script>                <script type=\"text/javascript\">window.PlotlyConfig = {MathJaxConfig: 'local'};</script>\n",
       "        <script src=\"https://cdn.plot.ly/plotly-2.12.1.min.js\"></script>                <div id=\"ef41ce6f-d3d2-4a81-9e78-e0a4a2183881\" class=\"plotly-graph-div\" style=\"height:100%; width:100%;\"></div>            <script type=\"text/javascript\">                                    window.PLOTLYENV=window.PLOTLYENV || {};                                    if (document.getElementById(\"ef41ce6f-d3d2-4a81-9e78-e0a4a2183881\")) {                    Plotly.newPlot(                        \"ef41ce6f-d3d2-4a81-9e78-e0a4a2183881\",                        [{\"hovertemplate\":\"date=%{x}<br>count=%{y}<extra></extra>\",\"legendgroup\":\"\",\"line\":{\"color\":\"#636efa\",\"dash\":\"solid\"},\"marker\":{\"symbol\":\"circle\"},\"mode\":\"lines\",\"name\":\"\",\"orientation\":\"v\",\"showlegend\":false,\"x\":[\"2021-01-01\",\"2021-01-02\",\"2021-01-03\",\"2021-01-04\",\"2021-01-05\",\"2021-01-06\",\"2021-01-07\",\"2021-01-08\",\"2021-01-09\",\"2021-01-10\",\"2021-01-11\",\"2021-01-12\",\"2021-01-13\",\"2021-01-14\",\"2021-01-15\",\"2021-01-16\",\"2021-01-17\",\"2021-01-18\",\"2021-01-19\",\"2021-01-20\",\"2021-01-21\",\"2021-01-22\",\"2021-01-23\",\"2021-01-24\",\"2021-01-25\",\"2021-01-26\",\"2021-01-27\",\"2021-01-28\",\"2021-01-29\",\"2021-01-30\",null,\"2021-01-31\"],\"xaxis\":\"x\",\"y\":[490117,458247,390596,383351,375912,417243,497580,495854,459344,383184,379909,393626,413466,494057,475045,461234,399006,382005,386494,409090,478036,479541,460155,401224,392648,396417,416946,491571,480452,455403,0,170642],\"yaxis\":\"y\",\"type\":\"scatter\"}],                        {\"template\":{\"data\":{\"histogram2dcontour\":[{\"type\":\"histogram2dcontour\",\"colorbar\":{\"outlinewidth\":0,\"ticks\":\"\"},\"colorscale\":[[0.0,\"#0d0887\"],[0.1111111111111111,\"#46039f\"],[0.2222222222222222,\"#7201a8\"],[0.3333333333333333,\"#9c179e\"],[0.4444444444444444,\"#bd3786\"],[0.5555555555555556,\"#d8576b\"],[0.6666666666666666,\"#ed7953\"],[0.7777777777777778,\"#fb9f3a\"],[0.8888888888888888,\"#fdca26\"],[1.0,\"#f0f921\"]]}],\"choropleth\":[{\"type\":\"choropleth\",\"colorbar\":{\"outlinewidth\":0,\"ticks\":\"\"}}],\"histogram2d\":[{\"type\":\"histogram2d\",\"colorbar\":{\"outlinewidth\":0,\"ticks\":\"\"},\"colorscale\":[[0.0,\"#0d0887\"],[0.1111111111111111,\"#46039f\"],[0.2222222222222222,\"#7201a8\"],[0.3333333333333333,\"#9c179e\"],[0.4444444444444444,\"#bd3786\"],[0.5555555555555556,\"#d8576b\"],[0.6666666666666666,\"#ed7953\"],[0.7777777777777778,\"#fb9f3a\"],[0.8888888888888888,\"#fdca26\"],[1.0,\"#f0f921\"]]}],\"heatmap\":[{\"type\":\"heatmap\",\"colorbar\":{\"outlinewidth\":0,\"ticks\":\"\"},\"colorscale\":[[0.0,\"#0d0887\"],[0.1111111111111111,\"#46039f\"],[0.2222222222222222,\"#7201a8\"],[0.3333333333333333,\"#9c179e\"],[0.4444444444444444,\"#bd3786\"],[0.5555555555555556,\"#d8576b\"],[0.6666666666666666,\"#ed7953\"],[0.7777777777777778,\"#fb9f3a\"],[0.8888888888888888,\"#fdca26\"],[1.0,\"#f0f921\"]]}],\"heatmapgl\":[{\"type\":\"heatmapgl\",\"colorbar\":{\"outlinewidth\":0,\"ticks\":\"\"},\"colorscale\":[[0.0,\"#0d0887\"],[0.1111111111111111,\"#46039f\"],[0.2222222222222222,\"#7201a8\"],[0.3333333333333333,\"#9c179e\"],[0.4444444444444444,\"#bd3786\"],[0.5555555555555556,\"#d8576b\"],[0.6666666666666666,\"#ed7953\"],[0.7777777777777778,\"#fb9f3a\"],[0.8888888888888888,\"#fdca26\"],[1.0,\"#f0f921\"]]}],\"contourcarpet\":[{\"type\":\"contourcarpet\",\"colorbar\":{\"outlinewidth\":0,\"ticks\":\"\"}}],\"contour\":[{\"type\":\"contour\",\"colorbar\":{\"outlinewidth\":0,\"ticks\":\"\"},\"colorscale\":[[0.0,\"#0d0887\"],[0.1111111111111111,\"#46039f\"],[0.2222222222222222,\"#7201a8\"],[0.3333333333333333,\"#9c179e\"],[0.4444444444444444,\"#bd3786\"],[0.5555555555555556,\"#d8576b\"],[0.6666666666666666,\"#ed7953\"],[0.7777777777777778,\"#fb9f3a\"],[0.8888888888888888,\"#fdca26\"],[1.0,\"#f0f921\"]]}],\"surface\":[{\"type\":\"surface\",\"colorbar\":{\"outlinewidth\":0,\"ticks\":\"\"},\"colorscale\":[[0.0,\"#0d0887\"],[0.1111111111111111,\"#46039f\"],[0.2222222222222222,\"#7201a8\"],[0.3333333333333333,\"#9c179e\"],[0.4444444444444444,\"#bd3786\"],[0.5555555555555556,\"#d8576b\"],[0.6666666666666666,\"#ed7953\"],[0.7777777777777778,\"#fb9f3a\"],[0.8888888888888888,\"#fdca26\"],[1.0,\"#f0f921\"]]}],\"mesh3d\":[{\"type\":\"mesh3d\",\"colorbar\":{\"outlinewidth\":0,\"ticks\":\"\"}}],\"scatter\":[{\"fillpattern\":{\"fillmode\":\"overlay\",\"size\":10,\"solidity\":0.2},\"type\":\"scatter\"}],\"parcoords\":[{\"type\":\"parcoords\",\"line\":{\"colorbar\":{\"outlinewidth\":0,\"ticks\":\"\"}}}],\"scatterpolargl\":[{\"type\":\"scatterpolargl\",\"marker\":{\"colorbar\":{\"outlinewidth\":0,\"ticks\":\"\"}}}],\"bar\":[{\"error_x\":{\"color\":\"#2a3f5f\"},\"error_y\":{\"color\":\"#2a3f5f\"},\"marker\":{\"line\":{\"color\":\"#E5ECF6\",\"width\":0.5},\"pattern\":{\"fillmode\":\"overlay\",\"size\":10,\"solidity\":0.2}},\"type\":\"bar\"}],\"scattergeo\":[{\"type\":\"scattergeo\",\"marker\":{\"colorbar\":{\"outlinewidth\":0,\"ticks\":\"\"}}}],\"scatterpolar\":[{\"type\":\"scatterpolar\",\"marker\":{\"colorbar\":{\"outlinewidth\":0,\"ticks\":\"\"}}}],\"histogram\":[{\"marker\":{\"pattern\":{\"fillmode\":\"overlay\",\"size\":10,\"solidity\":0.2}},\"type\":\"histogram\"}],\"scattergl\":[{\"type\":\"scattergl\",\"marker\":{\"colorbar\":{\"outlinewidth\":0,\"ticks\":\"\"}}}],\"scatter3d\":[{\"type\":\"scatter3d\",\"line\":{\"colorbar\":{\"outlinewidth\":0,\"ticks\":\"\"}},\"marker\":{\"colorbar\":{\"outlinewidth\":0,\"ticks\":\"\"}}}],\"scattermapbox\":[{\"type\":\"scattermapbox\",\"marker\":{\"colorbar\":{\"outlinewidth\":0,\"ticks\":\"\"}}}],\"scatterternary\":[{\"type\":\"scatterternary\",\"marker\":{\"colorbar\":{\"outlinewidth\":0,\"ticks\":\"\"}}}],\"scattercarpet\":[{\"type\":\"scattercarpet\",\"marker\":{\"colorbar\":{\"outlinewidth\":0,\"ticks\":\"\"}}}],\"carpet\":[{\"aaxis\":{\"endlinecolor\":\"#2a3f5f\",\"gridcolor\":\"white\",\"linecolor\":\"white\",\"minorgridcolor\":\"white\",\"startlinecolor\":\"#2a3f5f\"},\"baxis\":{\"endlinecolor\":\"#2a3f5f\",\"gridcolor\":\"white\",\"linecolor\":\"white\",\"minorgridcolor\":\"white\",\"startlinecolor\":\"#2a3f5f\"},\"type\":\"carpet\"}],\"table\":[{\"cells\":{\"fill\":{\"color\":\"#EBF0F8\"},\"line\":{\"color\":\"white\"}},\"header\":{\"fill\":{\"color\":\"#C8D4E3\"},\"line\":{\"color\":\"white\"}},\"type\":\"table\"}],\"barpolar\":[{\"marker\":{\"line\":{\"color\":\"#E5ECF6\",\"width\":0.5},\"pattern\":{\"fillmode\":\"overlay\",\"size\":10,\"solidity\":0.2}},\"type\":\"barpolar\"}],\"pie\":[{\"automargin\":true,\"type\":\"pie\"}]},\"layout\":{\"autotypenumbers\":\"strict\",\"colorway\":[\"#636efa\",\"#EF553B\",\"#00cc96\",\"#ab63fa\",\"#FFA15A\",\"#19d3f3\",\"#FF6692\",\"#B6E880\",\"#FF97FF\",\"#FECB52\"],\"font\":{\"color\":\"#2a3f5f\"},\"hovermode\":\"closest\",\"hoverlabel\":{\"align\":\"left\"},\"paper_bgcolor\":\"white\",\"plot_bgcolor\":\"#E5ECF6\",\"polar\":{\"bgcolor\":\"#E5ECF6\",\"angularaxis\":{\"gridcolor\":\"white\",\"linecolor\":\"white\",\"ticks\":\"\"},\"radialaxis\":{\"gridcolor\":\"white\",\"linecolor\":\"white\",\"ticks\":\"\"}},\"ternary\":{\"bgcolor\":\"#E5ECF6\",\"aaxis\":{\"gridcolor\":\"white\",\"linecolor\":\"white\",\"ticks\":\"\"},\"baxis\":{\"gridcolor\":\"white\",\"linecolor\":\"white\",\"ticks\":\"\"},\"caxis\":{\"gridcolor\":\"white\",\"linecolor\":\"white\",\"ticks\":\"\"}},\"coloraxis\":{\"colorbar\":{\"outlinewidth\":0,\"ticks\":\"\"}},\"colorscale\":{\"sequential\":[[0.0,\"#0d0887\"],[0.1111111111111111,\"#46039f\"],[0.2222222222222222,\"#7201a8\"],[0.3333333333333333,\"#9c179e\"],[0.4444444444444444,\"#bd3786\"],[0.5555555555555556,\"#d8576b\"],[0.6666666666666666,\"#ed7953\"],[0.7777777777777778,\"#fb9f3a\"],[0.8888888888888888,\"#fdca26\"],[1.0,\"#f0f921\"]],\"sequentialminus\":[[0.0,\"#0d0887\"],[0.1111111111111111,\"#46039f\"],[0.2222222222222222,\"#7201a8\"],[0.3333333333333333,\"#9c179e\"],[0.4444444444444444,\"#bd3786\"],[0.5555555555555556,\"#d8576b\"],[0.6666666666666666,\"#ed7953\"],[0.7777777777777778,\"#fb9f3a\"],[0.8888888888888888,\"#fdca26\"],[1.0,\"#f0f921\"]],\"diverging\":[[0,\"#8e0152\"],[0.1,\"#c51b7d\"],[0.2,\"#de77ae\"],[0.3,\"#f1b6da\"],[0.4,\"#fde0ef\"],[0.5,\"#f7f7f7\"],[0.6,\"#e6f5d0\"],[0.7,\"#b8e186\"],[0.8,\"#7fbc41\"],[0.9,\"#4d9221\"],[1,\"#276419\"]]},\"xaxis\":{\"gridcolor\":\"white\",\"linecolor\":\"white\",\"ticks\":\"\",\"title\":{\"standoff\":15},\"zerolinecolor\":\"white\",\"automargin\":true,\"zerolinewidth\":2},\"yaxis\":{\"gridcolor\":\"white\",\"linecolor\":\"white\",\"ticks\":\"\",\"title\":{\"standoff\":15},\"zerolinecolor\":\"white\",\"automargin\":true,\"zerolinewidth\":2},\"scene\":{\"xaxis\":{\"backgroundcolor\":\"#E5ECF6\",\"gridcolor\":\"white\",\"linecolor\":\"white\",\"showbackground\":true,\"ticks\":\"\",\"zerolinecolor\":\"white\",\"gridwidth\":2},\"yaxis\":{\"backgroundcolor\":\"#E5ECF6\",\"gridcolor\":\"white\",\"linecolor\":\"white\",\"showbackground\":true,\"ticks\":\"\",\"zerolinecolor\":\"white\",\"gridwidth\":2},\"zaxis\":{\"backgroundcolor\":\"#E5ECF6\",\"gridcolor\":\"white\",\"linecolor\":\"white\",\"showbackground\":true,\"ticks\":\"\",\"zerolinecolor\":\"white\",\"gridwidth\":2}},\"shapedefaults\":{\"line\":{\"color\":\"#2a3f5f\"}},\"annotationdefaults\":{\"arrowcolor\":\"#2a3f5f\",\"arrowhead\":0,\"arrowwidth\":1},\"geo\":{\"bgcolor\":\"white\",\"landcolor\":\"#E5ECF6\",\"subunitcolor\":\"white\",\"showland\":true,\"showlakes\":true,\"lakecolor\":\"white\"},\"title\":{\"x\":0.05},\"mapbox\":{\"style\":\"light\"}}},\"xaxis\":{\"anchor\":\"y\",\"domain\":[0.0,1.0],\"title\":{\"text\":\"date\"}},\"yaxis\":{\"anchor\":\"x\",\"domain\":[0.0,1.0],\"title\":{\"text\":\"count\"}},\"legend\":{\"tracegroupgap\":0},\"margin\":{\"t\":60}},                        {\"responsive\": true}                    )                };                            </script>        </div>\n",
       "</body>\n",
       "</html>"
      ]
     },
     "metadata": {},
     "output_type": "display_data"
    }
   ],
   "source": [
    "daily_count = parsed_input.map(lambda x : [x[0],x[5]])\\\n",
    "                          .reduceByKey(lambda x,y : x+y)\\\n",
    "                          .collect()\n",
    "\n",
    "daily_count_df = pd.DataFrame(daily_count, columns=['date', 'count'])\n",
    "fig = px.line(daily_count_df, x='date', y=\"count\")\n",
    "fig.show()"
   ]
  },
  {
   "cell_type": "markdown",
   "metadata": {
    "application/vnd.databricks.v1+cell": {
     "cellMetadata": {
      "byteLimit": 2048000,
      "rowLimit": 10000
     },
     "inputWidgets": {},
     "nuid": "bc5df56e-1ab7-4ebc-a316-504292f02c75",
     "showTitle": false,
     "title": ""
    }
   },
   "source": [
    "# Display Daily Count Per Country\n",
    "For US, France, UK, Australia and Taiwan, create a scatter plot showing daily counts.\n",
    "\n",
    "Observation : It shows there are patterns in 7 days, where Thursday/Friday has the highest value. UK has the strongest market among all."
   ]
  },
  {
   "cell_type": "code",
   "execution_count": 0,
   "metadata": {
    "application/vnd.databricks.v1+cell": {
     "cellMetadata": {
      "byteLimit": 2048000,
      "rowLimit": 10000
     },
     "inputWidgets": {},
     "nuid": "35f77a94-1c8b-4d53-a3ce-7e0945930883",
     "showTitle": false,
     "title": ""
    }
   },
   "outputs": [
    {
     "output_type": "display_data",
     "data": {
      "text/html": [
       "<html>\n",
       "<head><meta charset=\"utf-8\" /></head>\n",
       "<body>\n",
       "    <div>            <script src=\"https://cdnjs.cloudflare.com/ajax/libs/mathjax/2.7.5/MathJax.js?config=TeX-AMS-MML_SVG\"></script><script type=\"text/javascript\">if (window.MathJax && window.MathJax.Hub && window.MathJax.Hub.Config) {window.MathJax.Hub.Config({SVG: {font: \"STIX-Web\"}});}</script>                <script type=\"text/javascript\">window.PlotlyConfig = {MathJaxConfig: 'local'};</script>\n",
       "        <script src=\"https://cdn.plot.ly/plotly-2.12.1.min.js\"></script>                <div id=\"8e23ada2-1f33-4158-8f2b-e71c914898a6\" class=\"plotly-graph-div\" style=\"height:100%; width:100%;\"></div>            <script type=\"text/javascript\">                                    window.PLOTLYENV=window.PLOTLYENV || {};                                    if (document.getElementById(\"8e23ada2-1f33-4158-8f2b-e71c914898a6\")) {                    Plotly.newPlot(                        \"8e23ada2-1f33-4158-8f2b-e71c914898a6\",                        [{\"hovertemplate\":\"country=France<br>date=%{x}<br>count=%{y}<extra></extra>\",\"legendgroup\":\"France\",\"marker\":{\"color\":\"#636efa\",\"symbol\":\"circle\"},\"mode\":\"markers\",\"name\":\"France\",\"orientation\":\"v\",\"showlegend\":true,\"x\":[\"2021-01-01\",\"2021-01-02\",\"2021-01-03\",\"2021-01-04\",\"2021-01-05\",\"2021-01-06\",\"2021-01-07\",\"2021-01-08\",\"2021-01-09\",\"2021-01-10\",\"2021-01-11\",\"2021-01-12\",\"2021-01-13\",\"2021-01-14\",\"2021-01-15\",\"2021-01-16\",\"2021-01-17\",\"2021-01-18\",\"2021-01-19\",\"2021-01-20\",\"2021-01-21\",\"2021-01-22\",\"2021-01-23\",\"2021-01-24\",\"2021-01-25\",\"2021-01-26\",\"2021-01-27\",\"2021-01-28\",\"2021-01-29\",\"2021-01-30\",\"2021-01-31\"],\"xaxis\":\"x\",\"y\":[15230,15037,14574,14426,13829,14400,14323,15496,15367,15009,14156,13641,13783,14194,13725,14055,13979,13642,14061,15037,15549,15674,14877,14419,15051,15633,15563,15348,15873,16463,8196],\"yaxis\":\"y\",\"type\":\"scatter\"},{\"hovertemplate\":\"country=United States<br>date=%{x}<br>count=%{y}<extra></extra>\",\"legendgroup\":\"United States\",\"marker\":{\"color\":\"#EF553B\",\"symbol\":\"circle\"},\"mode\":\"markers\",\"name\":\"United States\",\"orientation\":\"v\",\"showlegend\":true,\"x\":[\"2021-01-01\",\"2021-01-02\",\"2021-01-03\",\"2021-01-04\",\"2021-01-05\",\"2021-01-06\",\"2021-01-07\",\"2021-01-08\",\"2021-01-09\",\"2021-01-10\",\"2021-01-11\",\"2021-01-12\",\"2021-01-13\",\"2021-01-14\",\"2021-01-15\",\"2021-01-16\",\"2021-01-17\",\"2021-01-18\",\"2021-01-19\",\"2021-01-20\",\"2021-01-21\",\"2021-01-22\",\"2021-01-23\",\"2021-01-24\",\"2021-01-25\",\"2021-01-26\",\"2021-01-27\",\"2021-01-28\",\"2021-01-29\",\"2021-01-30\",\"2021-01-31\"],\"xaxis\":\"x\",\"y\":[73707,78238,60921,55870,44539,55434,79201,73354,71740,56232,49958,63085,60488,81619,71417,83649,67577,60160,58050,64297,71811,80430,79887,68537,62676,66423,56585,75586,80417,74701,43050],\"yaxis\":\"y\",\"type\":\"scatter\"},{\"hovertemplate\":\"country=United Kingdom<br>date=%{x}<br>count=%{y}<extra></extra>\",\"legendgroup\":\"United Kingdom\",\"marker\":{\"color\":\"#00cc96\",\"symbol\":\"circle\"},\"mode\":\"markers\",\"name\":\"United Kingdom\",\"orientation\":\"v\",\"showlegend\":true,\"x\":[\"2021-01-01\",\"2021-01-02\",\"2021-01-03\",\"2021-01-04\",\"2021-01-05\",\"2021-01-06\",\"2021-01-07\",\"2021-01-08\",\"2021-01-09\",\"2021-01-10\",\"2021-01-11\",\"2021-01-12\",\"2021-01-13\",\"2021-01-14\",\"2021-01-15\",\"2021-01-16\",\"2021-01-17\",\"2021-01-18\",\"2021-01-19\",\"2021-01-20\",\"2021-01-21\",\"2021-01-22\",\"2021-01-23\",\"2021-01-24\",\"2021-01-25\",\"2021-01-26\",\"2021-01-27\",\"2021-01-28\",\"2021-01-29\",\"2021-01-30\",\"2021-01-31\"],\"xaxis\":\"x\",\"y\":[113583,110509,102810,98210,100585,104691,123135,125879,113143,100804,99997,101220,103995,125604,122339,116695,101794,98933,99491,104052,128524,118460,113336,105323,103124,100886,107863,121902,115819,107116,38374],\"yaxis\":\"y\",\"type\":\"scatter\"},{\"hovertemplate\":\"country=Australia<br>date=%{x}<br>count=%{y}<extra></extra>\",\"legendgroup\":\"Australia\",\"marker\":{\"color\":\"#ab63fa\",\"symbol\":\"circle\"},\"mode\":\"markers\",\"name\":\"Australia\",\"orientation\":\"v\",\"showlegend\":true,\"x\":[\"2021-01-01\",\"2021-01-02\",\"2021-01-03\",\"2021-01-04\",\"2021-01-05\",\"2021-01-06\",\"2021-01-07\",\"2021-01-08\",\"2021-01-09\",\"2021-01-10\",\"2021-01-11\",\"2021-01-12\",\"2021-01-13\",\"2021-01-14\",\"2021-01-15\",\"2021-01-16\",\"2021-01-17\",\"2021-01-18\",\"2021-01-19\",\"2021-01-20\",\"2021-01-21\",\"2021-01-22\",\"2021-01-23\",\"2021-01-24\",\"2021-01-25\",\"2021-01-26\",\"2021-01-27\",\"2021-01-28\",\"2021-01-29\",\"2021-01-30\",\"2021-01-31\"],\"xaxis\":\"x\",\"y\":[14965,10475,8614,9430,8390,10925,11377,11776,9678,9029,9811,8841,9031,10094,10751,9836,9568,9105,10473,10940,11749,13564,12142,12033,10114,10331,13683,13826,12482,11185,4221],\"yaxis\":\"y\",\"type\":\"scatter\"},{\"hovertemplate\":\"country=Taiwan<br>date=%{x}<br>count=%{y}<extra></extra>\",\"legendgroup\":\"Taiwan\",\"marker\":{\"color\":\"#FFA15A\",\"symbol\":\"circle\"},\"mode\":\"markers\",\"name\":\"Taiwan\",\"orientation\":\"v\",\"showlegend\":true,\"x\":[\"2021-01-01\",\"2021-01-02\",\"2021-01-03\",\"2021-01-04\",\"2021-01-05\",\"2021-01-06\",\"2021-01-07\",\"2021-01-08\",\"2021-01-09\",\"2021-01-10\",\"2021-01-11\",\"2021-01-12\",\"2021-01-13\",\"2021-01-14\",\"2021-01-15\",\"2021-01-16\",\"2021-01-17\",\"2021-01-18\",\"2021-01-19\",\"2021-01-20\",\"2021-01-21\",\"2021-01-22\",\"2021-01-23\",\"2021-01-24\",\"2021-01-25\",\"2021-01-26\",\"2021-01-27\",\"2021-01-28\",\"2021-01-29\",\"2021-01-30\",\"2021-01-31\"],\"xaxis\":\"x\",\"y\":[2548,2111,2052,2016,3513,3077,2701,3186,2882,2286,3626,4103,3900,3460,3691,3308,2870,3241,3623,3543,3332,3044,2580,2660,2887,3816,3926,3886,3375,2593,1179],\"yaxis\":\"y\",\"type\":\"scatter\"}],                        {\"template\":{\"data\":{\"histogram2dcontour\":[{\"type\":\"histogram2dcontour\",\"colorbar\":{\"outlinewidth\":0,\"ticks\":\"\"},\"colorscale\":[[0.0,\"#0d0887\"],[0.1111111111111111,\"#46039f\"],[0.2222222222222222,\"#7201a8\"],[0.3333333333333333,\"#9c179e\"],[0.4444444444444444,\"#bd3786\"],[0.5555555555555556,\"#d8576b\"],[0.6666666666666666,\"#ed7953\"],[0.7777777777777778,\"#fb9f3a\"],[0.8888888888888888,\"#fdca26\"],[1.0,\"#f0f921\"]]}],\"choropleth\":[{\"type\":\"choropleth\",\"colorbar\":{\"outlinewidth\":0,\"ticks\":\"\"}}],\"histogram2d\":[{\"type\":\"histogram2d\",\"colorbar\":{\"outlinewidth\":0,\"ticks\":\"\"},\"colorscale\":[[0.0,\"#0d0887\"],[0.1111111111111111,\"#46039f\"],[0.2222222222222222,\"#7201a8\"],[0.3333333333333333,\"#9c179e\"],[0.4444444444444444,\"#bd3786\"],[0.5555555555555556,\"#d8576b\"],[0.6666666666666666,\"#ed7953\"],[0.7777777777777778,\"#fb9f3a\"],[0.8888888888888888,\"#fdca26\"],[1.0,\"#f0f921\"]]}],\"heatmap\":[{\"type\":\"heatmap\",\"colorbar\":{\"outlinewidth\":0,\"ticks\":\"\"},\"colorscale\":[[0.0,\"#0d0887\"],[0.1111111111111111,\"#46039f\"],[0.2222222222222222,\"#7201a8\"],[0.3333333333333333,\"#9c179e\"],[0.4444444444444444,\"#bd3786\"],[0.5555555555555556,\"#d8576b\"],[0.6666666666666666,\"#ed7953\"],[0.7777777777777778,\"#fb9f3a\"],[0.8888888888888888,\"#fdca26\"],[1.0,\"#f0f921\"]]}],\"heatmapgl\":[{\"type\":\"heatmapgl\",\"colorbar\":{\"outlinewidth\":0,\"ticks\":\"\"},\"colorscale\":[[0.0,\"#0d0887\"],[0.1111111111111111,\"#46039f\"],[0.2222222222222222,\"#7201a8\"],[0.3333333333333333,\"#9c179e\"],[0.4444444444444444,\"#bd3786\"],[0.5555555555555556,\"#d8576b\"],[0.6666666666666666,\"#ed7953\"],[0.7777777777777778,\"#fb9f3a\"],[0.8888888888888888,\"#fdca26\"],[1.0,\"#f0f921\"]]}],\"contourcarpet\":[{\"type\":\"contourcarpet\",\"colorbar\":{\"outlinewidth\":0,\"ticks\":\"\"}}],\"contour\":[{\"type\":\"contour\",\"colorbar\":{\"outlinewidth\":0,\"ticks\":\"\"},\"colorscale\":[[0.0,\"#0d0887\"],[0.1111111111111111,\"#46039f\"],[0.2222222222222222,\"#7201a8\"],[0.3333333333333333,\"#9c179e\"],[0.4444444444444444,\"#bd3786\"],[0.5555555555555556,\"#d8576b\"],[0.6666666666666666,\"#ed7953\"],[0.7777777777777778,\"#fb9f3a\"],[0.8888888888888888,\"#fdca26\"],[1.0,\"#f0f921\"]]}],\"surface\":[{\"type\":\"surface\",\"colorbar\":{\"outlinewidth\":0,\"ticks\":\"\"},\"colorscale\":[[0.0,\"#0d0887\"],[0.1111111111111111,\"#46039f\"],[0.2222222222222222,\"#7201a8\"],[0.3333333333333333,\"#9c179e\"],[0.4444444444444444,\"#bd3786\"],[0.5555555555555556,\"#d8576b\"],[0.6666666666666666,\"#ed7953\"],[0.7777777777777778,\"#fb9f3a\"],[0.8888888888888888,\"#fdca26\"],[1.0,\"#f0f921\"]]}],\"mesh3d\":[{\"type\":\"mesh3d\",\"colorbar\":{\"outlinewidth\":0,\"ticks\":\"\"}}],\"scatter\":[{\"fillpattern\":{\"fillmode\":\"overlay\",\"size\":10,\"solidity\":0.2},\"type\":\"scatter\"}],\"parcoords\":[{\"type\":\"parcoords\",\"line\":{\"colorbar\":{\"outlinewidth\":0,\"ticks\":\"\"}}}],\"scatterpolargl\":[{\"type\":\"scatterpolargl\",\"marker\":{\"colorbar\":{\"outlinewidth\":0,\"ticks\":\"\"}}}],\"bar\":[{\"error_x\":{\"color\":\"#2a3f5f\"},\"error_y\":{\"color\":\"#2a3f5f\"},\"marker\":{\"line\":{\"color\":\"#E5ECF6\",\"width\":0.5},\"pattern\":{\"fillmode\":\"overlay\",\"size\":10,\"solidity\":0.2}},\"type\":\"bar\"}],\"scattergeo\":[{\"type\":\"scattergeo\",\"marker\":{\"colorbar\":{\"outlinewidth\":0,\"ticks\":\"\"}}}],\"scatterpolar\":[{\"type\":\"scatterpolar\",\"marker\":{\"colorbar\":{\"outlinewidth\":0,\"ticks\":\"\"}}}],\"histogram\":[{\"marker\":{\"pattern\":{\"fillmode\":\"overlay\",\"size\":10,\"solidity\":0.2}},\"type\":\"histogram\"}],\"scattergl\":[{\"type\":\"scattergl\",\"marker\":{\"colorbar\":{\"outlinewidth\":0,\"ticks\":\"\"}}}],\"scatter3d\":[{\"type\":\"scatter3d\",\"line\":{\"colorbar\":{\"outlinewidth\":0,\"ticks\":\"\"}},\"marker\":{\"colorbar\":{\"outlinewidth\":0,\"ticks\":\"\"}}}],\"scattermapbox\":[{\"type\":\"scattermapbox\",\"marker\":{\"colorbar\":{\"outlinewidth\":0,\"ticks\":\"\"}}}],\"scatterternary\":[{\"type\":\"scatterternary\",\"marker\":{\"colorbar\":{\"outlinewidth\":0,\"ticks\":\"\"}}}],\"scattercarpet\":[{\"type\":\"scattercarpet\",\"marker\":{\"colorbar\":{\"outlinewidth\":0,\"ticks\":\"\"}}}],\"carpet\":[{\"aaxis\":{\"endlinecolor\":\"#2a3f5f\",\"gridcolor\":\"white\",\"linecolor\":\"white\",\"minorgridcolor\":\"white\",\"startlinecolor\":\"#2a3f5f\"},\"baxis\":{\"endlinecolor\":\"#2a3f5f\",\"gridcolor\":\"white\",\"linecolor\":\"white\",\"minorgridcolor\":\"white\",\"startlinecolor\":\"#2a3f5f\"},\"type\":\"carpet\"}],\"table\":[{\"cells\":{\"fill\":{\"color\":\"#EBF0F8\"},\"line\":{\"color\":\"white\"}},\"header\":{\"fill\":{\"color\":\"#C8D4E3\"},\"line\":{\"color\":\"white\"}},\"type\":\"table\"}],\"barpolar\":[{\"marker\":{\"line\":{\"color\":\"#E5ECF6\",\"width\":0.5},\"pattern\":{\"fillmode\":\"overlay\",\"size\":10,\"solidity\":0.2}},\"type\":\"barpolar\"}],\"pie\":[{\"automargin\":true,\"type\":\"pie\"}]},\"layout\":{\"autotypenumbers\":\"strict\",\"colorway\":[\"#636efa\",\"#EF553B\",\"#00cc96\",\"#ab63fa\",\"#FFA15A\",\"#19d3f3\",\"#FF6692\",\"#B6E880\",\"#FF97FF\",\"#FECB52\"],\"font\":{\"color\":\"#2a3f5f\"},\"hovermode\":\"closest\",\"hoverlabel\":{\"align\":\"left\"},\"paper_bgcolor\":\"white\",\"plot_bgcolor\":\"#E5ECF6\",\"polar\":{\"bgcolor\":\"#E5ECF6\",\"angularaxis\":{\"gridcolor\":\"white\",\"linecolor\":\"white\",\"ticks\":\"\"},\"radialaxis\":{\"gridcolor\":\"white\",\"linecolor\":\"white\",\"ticks\":\"\"}},\"ternary\":{\"bgcolor\":\"#E5ECF6\",\"aaxis\":{\"gridcolor\":\"white\",\"linecolor\":\"white\",\"ticks\":\"\"},\"baxis\":{\"gridcolor\":\"white\",\"linecolor\":\"white\",\"ticks\":\"\"},\"caxis\":{\"gridcolor\":\"white\",\"linecolor\":\"white\",\"ticks\":\"\"}},\"coloraxis\":{\"colorbar\":{\"outlinewidth\":0,\"ticks\":\"\"}},\"colorscale\":{\"sequential\":[[0.0,\"#0d0887\"],[0.1111111111111111,\"#46039f\"],[0.2222222222222222,\"#7201a8\"],[0.3333333333333333,\"#9c179e\"],[0.4444444444444444,\"#bd3786\"],[0.5555555555555556,\"#d8576b\"],[0.6666666666666666,\"#ed7953\"],[0.7777777777777778,\"#fb9f3a\"],[0.8888888888888888,\"#fdca26\"],[1.0,\"#f0f921\"]],\"sequentialminus\":[[0.0,\"#0d0887\"],[0.1111111111111111,\"#46039f\"],[0.2222222222222222,\"#7201a8\"],[0.3333333333333333,\"#9c179e\"],[0.4444444444444444,\"#bd3786\"],[0.5555555555555556,\"#d8576b\"],[0.6666666666666666,\"#ed7953\"],[0.7777777777777778,\"#fb9f3a\"],[0.8888888888888888,\"#fdca26\"],[1.0,\"#f0f921\"]],\"diverging\":[[0,\"#8e0152\"],[0.1,\"#c51b7d\"],[0.2,\"#de77ae\"],[0.3,\"#f1b6da\"],[0.4,\"#fde0ef\"],[0.5,\"#f7f7f7\"],[0.6,\"#e6f5d0\"],[0.7,\"#b8e186\"],[0.8,\"#7fbc41\"],[0.9,\"#4d9221\"],[1,\"#276419\"]]},\"xaxis\":{\"gridcolor\":\"white\",\"linecolor\":\"white\",\"ticks\":\"\",\"title\":{\"standoff\":15},\"zerolinecolor\":\"white\",\"automargin\":true,\"zerolinewidth\":2},\"yaxis\":{\"gridcolor\":\"white\",\"linecolor\":\"white\",\"ticks\":\"\",\"title\":{\"standoff\":15},\"zerolinecolor\":\"white\",\"automargin\":true,\"zerolinewidth\":2},\"scene\":{\"xaxis\":{\"backgroundcolor\":\"#E5ECF6\",\"gridcolor\":\"white\",\"linecolor\":\"white\",\"showbackground\":true,\"ticks\":\"\",\"zerolinecolor\":\"white\",\"gridwidth\":2},\"yaxis\":{\"backgroundcolor\":\"#E5ECF6\",\"gridcolor\":\"white\",\"linecolor\":\"white\",\"showbackground\":true,\"ticks\":\"\",\"zerolinecolor\":\"white\",\"gridwidth\":2},\"zaxis\":{\"backgroundcolor\":\"#E5ECF6\",\"gridcolor\":\"white\",\"linecolor\":\"white\",\"showbackground\":true,\"ticks\":\"\",\"zerolinecolor\":\"white\",\"gridwidth\":2}},\"shapedefaults\":{\"line\":{\"color\":\"#2a3f5f\"}},\"annotationdefaults\":{\"arrowcolor\":\"#2a3f5f\",\"arrowhead\":0,\"arrowwidth\":1},\"geo\":{\"bgcolor\":\"white\",\"landcolor\":\"#E5ECF6\",\"subunitcolor\":\"white\",\"showland\":true,\"showlakes\":true,\"lakecolor\":\"white\"},\"title\":{\"x\":0.05},\"mapbox\":{\"style\":\"light\"}}},\"xaxis\":{\"anchor\":\"y\",\"domain\":[0.0,1.0],\"title\":{\"text\":\"date\"}},\"yaxis\":{\"anchor\":\"x\",\"domain\":[0.0,1.0],\"title\":{\"text\":\"count\"}},\"legend\":{\"title\":{\"text\":\"country\"},\"tracegroupgap\":0},\"margin\":{\"t\":60}},                        {\"responsive\": true}                    )                };                            </script>        </div>\n",
       "</body>\n",
       "</html>"
      ]
     },
     "metadata": {},
     "output_type": "display_data"
    }
   ],
   "source": [
    "country_daily_count = parsed_input.map(lambda x : ((x[4], x[0]), x[5]))\\\n",
    "                                  .reduceByKey(lambda x, y : x+y)\\\n",
    "                                  .map(lambda x : [x[0][0], x[0][1], x[1]]).collect()\n",
    "\n",
    "country_count_df = pd.DataFrame(country_daily_count, columns=['country', 'date', 'count'])\n",
    "fig = px.scatter(country_count_df.query('country==\"United States\" or country== \"France\" or country==\"United Kingdom\" or country==\"Australia\" or country==\"Taiwan\"'), \n",
    "                 x=\"date\", \n",
    "                 y=\"count\",\n",
    "                 color=\"country\")\n",
    "fig.show()\n"
   ]
  },
  {
   "cell_type": "markdown",
   "metadata": {
    "application/vnd.databricks.v1+cell": {
     "cellMetadata": {
      "byteLimit": 2048000,
      "rowLimit": 10000
     },
     "inputWidgets": {},
     "nuid": "e81c5adc-cb8e-4190-9298-d970a4e2083a",
     "showTitle": false,
     "title": ""
    }
   },
   "source": [
    "# Display a map plot \n",
    "Create a bubble map showing top 200 (country, word) pairs. \n",
    "\n",
    "Observation :  Overall there are many topics relevant to the pandemic, but shows differences depending on its own political/cultural issues such as Lloyds Online Banking in UK, costco online in the US."
   ]
  },
  {
   "cell_type": "code",
   "execution_count": 0,
   "metadata": {
    "application/vnd.databricks.v1+cell": {
     "cellMetadata": {
      "byteLimit": 2048000,
      "rowLimit": 10000
     },
     "inputWidgets": {},
     "nuid": "1a00e886-e309-4a1f-999d-a39f493a442d",
     "showTitle": false,
     "title": ""
    }
   },
   "outputs": [],
   "source": [
    "\n",
    "geolocator = Nominatim(user_agent=\"user_name\")\n",
    "\n",
    "def return_with_lon_lat(vals):\n",
    "    lon_lat = list()\n",
    "    for val in vals:\n",
    "        loc = geolocator.geocode(val[0])\n",
    "        lon_lat.append([loc.longitude, loc.latitude])\n",
    "    return np.append(np.array(vals), np.array(lon_lat), 1)\n",
    "    \n",
    "    \n",
    "country_word_freq = parsed_input.map(lambda x : ((x[4], x[1]), x[-1]))\\\n",
    "                                .groupByKey()\\\n",
    "                                .mapValues(lambda x : sum(x))\\\n",
    "                                .map(lambda val : [val[0][0], val[0][1], val[1]])\\\n",
    "                                .sortBy(lambda x : x[2], ascending = False)\\\n",
    "                                .take(200)\n"
   ]
  },
  {
   "cell_type": "code",
   "execution_count": 0,
   "metadata": {
    "application/vnd.databricks.v1+cell": {
     "cellMetadata": {
      "byteLimit": 2048000,
      "rowLimit": 10000
     },
     "inputWidgets": {},
     "nuid": "93170624-99d5-460b-83f0-46863d262d78",
     "showTitle": false,
     "title": ""
    }
   },
   "outputs": [],
   "source": [
    "limits = [(0,50),(50,100),(100,150),(150,200)]\n",
    "colors = [\"royalblue\",\"crimson\",\"lightseagreen\",\"orange\",\"lightgrey\"]\n",
    "\n",
    "fig = go.Figure(go.Scattergeo())\n",
    "fig.update_layout(height=1000)\n",
    "\n",
    "country_word_freq_df = pd.DataFrame(return_with_lon_lat(country_word_freq), columns=['country', 'keyword', 'count', 'lon', 'lat'])\n",
    "\n",
    "for i in range(len(limits)):\n",
    "    lim = limits[i]\n",
    "    df_sub = country_word_freq_df[lim[0]:lim[1]]\n",
    "    fig.add_trace(go.Scattergeo(lon = df_sub['lon'],\n",
    "                                lat = df_sub['lat'],\n",
    "                                text = df_sub['keyword'] + '<br>' + df_sub['country'] + '<br>' + df_sub['count'],\n",
    "                                marker = dict(\n",
    "                                    color = colors[i],\n",
    "                                    size = df_sub['count'].astype('int32')/10,\n",
    "                                    line_width=0.5,\n",
    "                                    sizemode = 'area'\n",
    "                            ),\n",
    "                             name = 'Top {0} - {1}'.format(lim[0],lim[1])))\n"
   ]
  },
  {
   "cell_type": "code",
   "execution_count": 0,
   "metadata": {
    "application/vnd.databricks.v1+cell": {
     "cellMetadata": {
      "byteLimit": 2048000,
      "rowLimit": 10000
     },
     "inputWidgets": {},
     "nuid": "40d9e4d3-607d-439f-8c29-d68acb4b2ba8",
     "showTitle": false,
     "title": ""
    }
   },
   "outputs": [
    {
     "output_type": "display_data",
     "data": {
      "text/html": [
       "<html>\n",
       "<head><meta charset=\"utf-8\" /></head>\n",
       "<body>\n",
       "    <div>            <script src=\"https://cdnjs.cloudflare.com/ajax/libs/mathjax/2.7.5/MathJax.js?config=TeX-AMS-MML_SVG\"></script><script type=\"text/javascript\">if (window.MathJax && window.MathJax.Hub && window.MathJax.Hub.Config) {window.MathJax.Hub.Config({SVG: {font: \"STIX-Web\"}});}</script>                <script type=\"text/javascript\">window.PlotlyConfig = {MathJaxConfig: 'local'};</script>\n",
       "        <script src=\"https://cdn.plot.ly/plotly-2.12.1.min.js\"></script>                <div id=\"13d9222d-906f-47c4-b178-546fb5f0ac7f\" class=\"plotly-graph-div\" style=\"height:1000px; width:100%;\"></div>            <script type=\"text/javascript\">                                    window.PLOTLYENV=window.PLOTLYENV || {};                                    if (document.getElementById(\"13d9222d-906f-47c4-b178-546fb5f0ac7f\")) {                    Plotly.newPlot(                        \"13d9222d-906f-47c4-b178-546fb5f0ac7f\",                        [{\"type\":\"scattergeo\"},{\"lat\":[\"54.7023545\",\"54.7023545\",\"54.7023545\",\"36.5748441\",\"36.5748441\",\"36.5748441\",\"59.6749712\",\"19.4326296\",\"54.7023545\",\"54.7023545\",\"39.7837304\",\"54.7023545\",\"54.7023545\",\"39.7837304\",\"42.6384261\",\"39.7837304\",\"39.6621648\",\"54.7023545\",\"19.4326296\",\"39.3260685\",\"54.7023545\",\"46.7985624\",\"51.1638175\",\"49.7439047\",\"54.7023545\",\"46.603354\",\"-31.7613365\",\"19.4326296\",\"59.6749712\",\"-10.3333333\",\"22.3511148\",\"52.215933\",\"22.3511148\",\"52.215933\",\"36.5748441\",\"36.5748441\",\"46.603354\",\"36.5748441\",\"54.7023545\",\"55.670249\",\"54.7023545\",\"54.7023545\",\"54.7023545\",\"54.7023545\",\"52.2434979\",\"36.5748441\",\"64.5731537\",\"47.59397\",\"54.7023545\",\"35.0000663\"],\"lon\":[\"-3.2765753\",\"-3.2765753\",\"-3.2765753\",\"139.2394179\",\"139.2394179\",\"139.2394179\",\"14.5208584\",\"-99.1331785\",\"-3.2765753\",\"-3.2765753\",\"-100.445882\",\"-3.2765753\",\"-3.2765753\",\"-100.445882\",\"12.674297\",\"-100.445882\",\"-8.1353519\",\"-3.2765753\",\"-99.1331785\",\"-4.8379791\",\"-3.2765753\",\"8.2319736\",\"10.4478313\",\"15.3381061\",\"-3.2765753\",\"1.8883335\",\"-71.3187697\",\"-99.1331785\",\"14.5208584\",\"-53.2\",\"78.6677428\",\"19.134422\",\"78.6677428\",\"19.134422\",\"139.2394179\",\"139.2394179\",\"1.8883335\",\"139.2394179\",\"-3.2765753\",\"10.3333283\",\"-3.2765753\",\"-3.2765753\",\"-3.2765753\",\"-3.2765753\",\"5.6343227\",\"139.2394179\",\"11.52803643954819\",\"14.12456\",\"-3.2765753\",\"104.999955\"],\"marker\":{\"color\":\"royalblue\",\"line\":{\"width\":0.5},\"size\":[54771.8,37854.4,34927.2,21458.7,20474.4,19133.3,15959.3,15309.0,13710.0,13642.0,13406.8,12930.1,12034.2,12005.8,11699.6,10166.5,9703.6,9201.5,8973.1,8757.1,8669.1,8301.5,8246.6,8128.8,7848.5,7318.9,7299.8,7121.0,6799.3,6794.2,6578.2,6543.3,6473.6,6264.4,6263.5,6088.9,5868.6,5864.8,5861.0,5735.6,5731.1,5675.4,5535.1,5530.6,5467.0,5455.5,5450.9,5305.9,5006.5,4926.8],\"sizemode\":\"area\"},\"name\":\"Top 0 - 50\",\"text\":[\"lloyds online banking<br>United Kingdom<br>547718\",\"companies house<br>United Kingdom<br>378544\",\"screwfix<br>United Kingdom<br>349272\",\"コロナ 感染者 数<br>Japan<br>214587\",\"コロナ<br>Japan<br>204744\",\"コロナ ワクチン<br>Japan<br>191333\",\"expressen<br>Sweden<br>159593\",\"mi vacuna<br>Mexico<br>153090\",\"hmrc login<br>United Kingdom<br>137100\",\"euro 2020<br>United Kingdom<br>136420\",\"costco online<br>United States<br>134068\",\"nhs jobs<br>United Kingdom<br>129301\",\"currys pc world<br>United Kingdom<br>120342\",\"delta variant<br>United States<br>120058\",\"inps<br>Italy<br>116996\",\"stimulus update<br>United States<br>101665\",\"segurança social directa<br>Portugal<br>97036\",\"morrisons<br>United Kingdom<br>92015\",\"mivacuna salud gob mx registro<br>Mexico<br>89731\",\"seguridad social<br>Spain<br>87571\",\"dunelm<br>United Kingdom<br>86691\",\"20 minuten<br>Switzerland<br>83015\",\"tagesschau<br>Germany<br>82466\",\"ocko uzis cz<br>Czech Republic<br>81288\",\"wickes<br>United Kingdom<br>78485\",\"doctolib<br>France<br>73189\",\"ife<br>Chile<br>72998\",\"mivacuna salud gob mx<br>Mexico<br>71210\",\"1177<br>Sweden<br>67993\",\"flamengo<br>Brazil<br>67942\",\"cowin<br>India<br>65782\",\"zus<br>Poland<br>65433\",\"cowin registration online<br>India<br>64736\",\"pacjent gov<br>Poland<br>62644\",\"事業 再構 築 補助 金<br>Japan<br>62635\",\"東京 都 コロナ<br>Japan<br>60889\",\"ameli<br>France<br>58686\",\"一時 支援 金<br>Japan<br>58648\",\"sainsburys groceries<br>United Kingdom<br>58610\",\"sundhed dk<br>Denmark<br>57356\",\"wales online<br>United Kingdom<br>57311\",\"the range<br>United Kingdom<br>56754\",\"dvla<br>United Kingdom<br>55351\",\"halfords<br>United Kingdom<br>55306\",\"rivm<br>Netherlands<br>54670\",\"東京 コロナ<br>Japan<br>54555\",\"helsenorge<br>Norway<br>54509\",\"orf<br>Austria<br>53059\",\"tui<br>United Kingdom<br>50065\",\"疫情<br>China<br>49268\"],\"type\":\"scattergeo\"},{\"lat\":[\"59.6749712\",\"51.1638175\",\"36.5748441\",\"51.1638175\",\"4.099917\",\"55.670249\",\"54.7023545\",\"51.1638175\",\"46.7985624\",\"42.6384261\",\"39.7837304\",\"39.7837304\",\"50.6402809\",\"19.4326296\",\"54.7023545\",\"52.2434979\",\"39.7837304\",\"50.6402809\",\"39.6621648\",\"52.215933\",\"39.3260685\",\"54.7023545\",\"23.5983227\",\"39.7837304\",\"36.638392\",\"19.4326296\",\"54.7023545\",\"48.7411522\",\"39.7837304\",\"54.7023545\",\"38.9953683\",\"19.4326296\",\"54.7023545\",\"46.603354\",\"39.7837304\",\"54.7023545\",\"54.7023545\",\"59.6749712\",\"59.6749712\",\"39.7837304\",\"36.638392\",\"22.3511148\",\"39.7837304\",\"54.7023545\",\"49.7439047\",\"51.1638175\",\"39.7837304\",\"39.3260685\",\"42.6384261\",\"50.6402809\"],\"lon\":[\"14.5208584\",\"10.4478313\",\"139.2394179\",\"10.4478313\",\"-72.9088133\",\"10.3333283\",\"-3.2765753\",\"10.4478313\",\"8.2319736\",\"12.674297\",\"-100.445882\",\"-100.445882\",\"4.6667145\",\"-99.1331785\",\"-3.2765753\",\"5.6343227\",\"-100.445882\",\"4.6667145\",\"-8.1353519\",\"19.134422\",\"-4.8379791\",\"-3.2765753\",\"120.83537694479215\",\"-100.445882\",\"127.6961188\",\"-99.1331785\",\"-3.2765753\",\"19.4528646\",\"-100.445882\",\"-3.2765753\",\"21.9877132\",\"-99.1331785\",\"-3.2765753\",\"1.8883335\",\"-100.445882\",\"-3.2765753\",\"-3.2765753\",\"14.5208584\",\"14.5208584\",\"-100.445882\",\"127.6961188\",\"78.6677428\",\"-100.445882\",\"-3.2765753\",\"15.3381061\",\"10.4478313\",\"-100.445882\",\"-4.8379791\",\"12.674297\",\"4.6667145\"],\"marker\":{\"color\":\"crimson\",\"line\":{\"width\":0.5},\"size\":[4882.3,4870.5,4832.4,4649.9,4591.1,4517.1,4433.8,4321.8,4287.1,4238.2,3961.7,3923.3,3867.6,3766.8,3482.5,3476.9,3469.9,3403.2,3339.2,3305.5,3273.4,3216.6,3169.0,3150.6,3131.7,3099.7,2988.0,2985.8,2976.1,2947.3,2914.5,2904.4,2897.5,2810.7,2699.7,2636.3,2627.2,2602.5,2597.9,2595.3,2572.2,2565.1,2550.9,2550.5,2451.4,2379.2,2272.5,2201.5,2175.7,2104.7],\"sizemode\":\"area\"},\"name\":\"Top 50 - 100\",\"text\":[\"försäkringskassan<br>Sweden<br>48823\",\"rki dashboard<br>Germany<br>48705\",\"新型 コロナ ウイルス<br>Japan<br>48324\",\"nachrichten<br>Germany<br>46499\",\"mi vacuna<br>Colombia<br>45911\",\"dr dk<br>Denmark<br>45171\",\"companies house beta<br>United Kingdom<br>44338\",\"rki<br>Germany<br>43218\",\"srf<br>Switzerland<br>42871\",\"poste italiane<br>Italy<br>42382\",\"uhc provider login<br>United States<br>39617\",\"jet blue airlines official site<br>United States<br>39233\",\"vrt nws<br>Belgium<br>38676\",\"mi vacuna registro<br>Mexico<br>37668\",\"sainsburys<br>United Kingdom<br>34825\",\"nieuws<br>Netherlands<br>34769\",\"coronavirus update<br>United States<br>34699\",\"rtl info<br>Belgium<br>34032\",\"certificado digital covid 19<br>Portugal<br>33392\",\"loteria szczepionkowa<br>Poland<br>33055\",\"sepe<br>Spain<br>32734\",\"jet2holidays<br>United Kingdom<br>32166\",\"1922<br>Taiwan<br>31690\",\"cdc coronavirus update<br>United States<br>31506\",\"질병 관리청<br>Korea (South)<br>31317\",\"registro vacuna covid<br>Mexico<br>30997\",\"mot check<br>United Kingdom<br>29880\",\"korona gov<br>Slovak Republic<br>29858\",\"covid 19 update<br>United States<br>29761\",\"wilko<br>United Kingdom<br>29473\",\"self testing gov gr<br>Greece<br>29145\",\"mi cuenta infonavit<br>Mexico<br>29044\",\"gov uk<br>United Kingdom<br>28975\",\"doctolib rendez vous<br>France<br>28107\",\"sba portal login<br>United States<br>26997\",\"waitrose<br>United Kingdom<br>26363\",\"matt hancock<br>United Kingdom<br>26272\",\"expressen senaste nytt<br>Sweden<br>26025\",\"aftonbladet senaste nytt<br>Sweden<br>25979\",\"indeed job search<br>United States<br>25953\",\"코로나<br>Korea (South)<br>25722\",\"cowin gov in<br>India<br>25651\",\"myocarditis<br>United States<br>25509\",\"nationwide building society<br>United Kingdom<br>25505\",\"ocko uzis<br>Czech Republic<br>24514\",\"ndr<br>Germany<br>23792\",\"covid<br>United States<br>22725\",\"la vanguardia<br>Spain<br>22015\",\"tgcom<br>Italy<br>21757\",\"hln nieuws<br>Belgium<br>21047\"],\"type\":\"scattergeo\"},{\"lat\":[\"39.7837304\",\"-28.8166236\",\"38.9953683\",\"19.4326296\",\"23.5983227\",\"54.7023545\",\"-41.5000831\",\"39.7837304\",\"22.3511148\",\"-28.8166236\",\"39.7837304\",\"50.6402809\",\"54.7023545\",\"36.638392\",\"54.7023545\",\"50.6402809\",\"49.7439047\",\"45.9852129\",\"50.6402809\",\"39.7837304\",\"59.6749712\",\"4.5693754\",\"19.4326296\",\"54.7023545\",\"54.7023545\",\"52.2434979\",\"23.5983227\",\"42.6384261\",\"52.215933\",\"51.1638175\",\"36.5748441\",\"46.603354\",\"39.7837304\",\"54.7023545\",\"39.7837304\",\"39.7837304\",\"51.1638175\",\"23.5983227\",\"46.603354\",\"54.7023545\",\"19.4326296\",\"55.670249\",\"-10.3333333\",\"39.7837304\",\"54.7023545\",\"39.7837304\",\"46.7985624\",\"39.7837304\",\"49.7439047\",\"36.5748441\"],\"lon\":[\"-100.445882\",\"24.991639\",\"21.9877132\",\"-99.1331785\",\"120.83537694479215\",\"-3.2765753\",\"172.8344077\",\"-100.445882\",\"78.6677428\",\"24.991639\",\"-100.445882\",\"4.6667145\",\"-3.2765753\",\"127.6961188\",\"-3.2765753\",\"4.6667145\",\"15.3381061\",\"24.6859225\",\"4.6667145\",\"-100.445882\",\"14.5208584\",\"102.2656823\",\"-99.1331785\",\"-3.2765753\",\"-3.2765753\",\"5.6343227\",\"120.83537694479215\",\"12.674297\",\"19.134422\",\"10.4478313\",\"139.2394179\",\"1.8883335\",\"-100.445882\",\"-3.2765753\",\"-100.445882\",\"-100.445882\",\"10.4478313\",\"120.83537694479215\",\"1.8883335\",\"-3.2765753\",\"-99.1331785\",\"10.3333283\",\"-53.2\",\"-100.445882\",\"-3.2765753\",\"-100.445882\",\"8.2319736\",\"-100.445882\",\"15.3381061\",\"139.2394179\"],\"marker\":{\"color\":\"lightseagreen\",\"line\":{\"width\":0.5},\"size\":[2099.1,2072.1,2023.4,2021.5,1974.9,1961.9,1949.6,1928.4,1899.6,1898.0,1893.8,1893.6,1889.6,1877.0,1838.3,1794.0,1780.7,1710.5,1700.5,1695.9,1688.5,1664.4,1656.5,1655.3,1650.5,1642.2,1631.0,1630.3,1628.8,1598.9,1598.0,1575.2,1570.4,1563.0,1544.1,1518.7,1492.4,1461.4,1459.3,1455.9,1452.8,1448.5,1417.6,1407.6,1406.1,1406.1,1403.5,1402.1,1391.7,1361.8],\"sizemode\":\"area\"},\"name\":\"Top 100 - 150\",\"text\":[\"covid vaccine<br>United States<br>20991\",\"news 24 south africa today<br>South Africa<br>20721\",\"gov gr<br>Greece<br>20234\",\"salud digna<br>Mexico<br>20215\",\"疫苗 預約<br>Taiwan<br>19749\",\"ocado<br>United Kingdom<br>19619\",\"nzta<br>New Zealand<br>19496\",\"delta variant symptoms<br>United States<br>19284\",\"covid 19 india<br>India<br>18996\",\"covid 19 update<br>South Africa<br>18980\",\"covid 19<br>United States<br>18938\",\"sudinfo<br>Belgium<br>18936\",\"pets at home<br>United Kingdom<br>18896\",\"ncvr kdca go kr<br>Korea (South)<br>18770\",\"www gov uk report covid19 result<br>United Kingdom<br>18383\",\"masante be<br>Belgium<br>17940\",\"cestne prohlaseni covid<br>Czech Republic<br>17807\",\"digi24<br>Romania<br>17105\",\"ma santé belgique<br>Belgium<br>17005\",\"worldometer coronavirus<br>United States<br>16959\",\"svt nyheter<br>Sweden<br>16885\",\"cims<br>Malaysia<br>16644\",\"certificado de vacunación covid<br>Mexico<br>16565\",\"universal credit<br>United Kingdom<br>16553\",\"airbnb uk<br>United Kingdom<br>16505\",\"sunweb<br>Netherlands<br>16422\",\"紓困 補助<br>Taiwan<br>16310\",\"www dgc gov it<br>Italy<br>16303\",\"arimr<br>Poland<br>16288\",\"auswärtiges amt<br>Germany<br>15989\",\"大阪 コロナ<br>Japan<br>15980\",\"la poste<br>France<br>15752\",\"doja cat<br>United States<br>15704\",\"coronavirus uk<br>United Kingdom<br>15630\",\"tucker carlson<br>United States<br>15441\",\"walgreens covid testing<br>United States<br>15187\",\"tui<br>Germany<br>14924\",\"疫苗<br>Taiwan<br>14614\",\"doctolib vaccination<br>France<br>14593\",\"nhs inform<br>United Kingdom<br>14559\",\"vacuna covid 19 registro<br>Mexico<br>14528\",\"sundhed dk login<br>Denmark<br>14485\",\"fgts<br>Brazil<br>14176\",\"cvs covid testing<br>United States<br>14076\",\"superdrug<br>United Kingdom<br>14061\",\"united airlines official site<br>United States<br>14061\",\"rts info<br>Switzerland<br>14035\",\"coronavirus<br>United States<br>14021\",\"mzcr<br>Czech Republic<br>13917\",\"ファイザー ワクチン<br>Japan<br>13618\"],\"type\":\"scattergeo\"},{\"lat\":[\"54.7023545\",\"52.215933\",\"39.7837304\",\"39.7837304\",\"39.7837304\",\"-1.3397668\",\"46.603354\",\"49.7439047\",\"38.9597594\",\"46.603354\",\"52.2434979\",\"42.6384261\",\"46.603354\",\"-24.7761086\",\"54.7023545\",\"-31.7613365\",\"54.7023545\",\"39.7837304\",\"39.7837304\",\"51.1638175\",\"-34.9964963\",\"36.5748441\",\"12.7503486\",\"-2.4833826\",\"-2.4833826\",\"36.5748441\",\"54.7023545\",\"49.7439047\",\"36.5748441\",\"30.3308401\",\"50.6402809\",\"54.7023545\",\"54.7023545\",\"39.7837304\",\"52.2434979\",\"39.7837304\",\"39.7837304\",\"4.5693754\",\"39.6621648\",\"22.2793278\",\"45.9852129\",\"39.7837304\",\"46.603354\",\"54.7023545\",\"39.7837304\",\"39.7837304\",\"46.603354\",\"39.7837304\",\"54.7023545\",\"39.6621648\"],\"lon\":[\"-3.2765753\",\"19.134422\",\"-100.445882\",\"-100.445882\",\"-100.445882\",\"-79.3666965\",\"1.8883335\",\"15.3381061\",\"34.9249653\",\"1.8883335\",\"5.6343227\",\"12.674297\",\"1.8883335\",\"134.755\",\"-3.2765753\",\"-71.3187697\",\"-3.2765753\",\"-100.445882\",\"-100.445882\",\"10.4478313\",\"-64.9672817\",\"139.2394179\",\"122.7312101\",\"117.8902853\",\"117.8902853\",\"139.2394179\",\"-3.2765753\",\"15.3381061\",\"139.2394179\",\"71.247499\",\"4.6667145\",\"-3.2765753\",\"-3.2765753\",\"-100.445882\",\"5.6343227\",\"-100.445882\",\"-100.445882\",\"102.2656823\",\"-8.1353519\",\"114.1628131\",\"24.6859225\",\"-100.445882\",\"1.8883335\",\"-3.2765753\",\"-100.445882\",\"-100.445882\",\"1.8883335\",\"-100.445882\",\"-3.2765753\",\"-8.1353519\"],\"marker\":{\"color\":\"orange\",\"line\":{\"width\":0.5},\"size\":[1357.8,1352.9,1351.9,1339.3,1338.1,1334.6,1305.9,1295.6,1287.2,1280.7,1279.8,1270.8,1263.6,1238.1,1235.1,1232.0,1227.0,1215.8,1200.6,1197.5,1193.8,1190.1,1185.9,1178.7,1166.1,1154.9,1134.1,1120.8,1117.8,1094.7,1086.1,1072.7,1063.0,1056.3,1041.5,1036.3,1030.0,1014.3,1011.6,1004.9,997.9,991.6,987.6,979.7,978.7,967.2,960.3,953.9,949.7,939.7],\"sizemode\":\"area\"},\"name\":\"Top 150 - 200\",\"text\":[\"specsavers<br>United Kingdom<br>13578\",\"pacjent gof pl<br>Poland<br>13529\",\"jon rahm<br>United States<br>13519\",\"unemployment login<br>United States<br>13393\",\"top news local<br>United States<br>13381\",\"lugar de vacunación ecuador<br>Ecuador<br>13346\",\"sfr mon compte<br>France<br>13059\",\"registrace ockovani covid<br>Czech Republic<br>12956\",\"e nabız<br>Turkey<br>12872\",\"pajemploi<br>France<br>12807\",\"ggd<br>Netherlands<br>12798\",\"green pass<br>Italy<br>12708\",\"urssaf<br>France<br>12636\",\"foxtel<br>Australia<br>12381\",\"scotrail<br>United Kingdom<br>12351\",\"pase de movilidad<br>Chile<br>12320\",\"travis perkins<br>United Kingdom<br>12270\",\"covid symptoms<br>United States<br>12158\",\"get my payment<br>United States<br>12006\",\"nachrichten aktuell<br>Germany<br>11975\",\"vacunatepba gob ar<br>Argentina<br>11938\",\"福岡 市<br>Japan<br>11901\",\"manila covid vaccine registration<br>Philippines<br>11859\",\"covid 19<br>Indonesia<br>11787\",\"pedulilindungi sertifikat<br>Indonesia<br>11661\",\"熊本 コロナ<br>Japan<br>11549\",\"report a lateral flow test result<br>United Kingdom<br>11341\",\"ministerstvo zdravotnictví<br>Czech Republic<br>11208\",\"新潟 コロナ<br>Japan<br>11178\",\"nims nadra gov pk<br>Pakistan<br>10947\",\"mijngezondheid<br>Belgium<br>10861\",\"worldometer coronavirus<br>United Kingdom<br>10727\",\"tui holidays<br>United Kingdom<br>10630\",\"mnp<br>United States<br>10563\",\"rijksoverheid<br>Netherlands<br>10415\",\"meijers website<br>United States<br>10363\",\"nc state baseball<br>United States<br>10300\",\"cims 3 0<br>Malaysia<br>10143\",\"agendamento vacina covid<br>Portugal<br>10116\",\"covid 19<br>Hong Kong<br>10049\",\"stiri<br>Romania<br>9979\",\"fauci<br>United States<br>9916\",\"ameli pro<br>France<br>9876\",\"home bargains<br>United Kingdom<br>9797\",\"stimulus check<br>United States<br>9787\",\"lambda variant<br>United States<br>9672\",\"actualités<br>France<br>9603\",\"hawaii safe travels website<br>United States<br>9539\",\"national trust<br>United Kingdom<br>9497\",\"sns24<br>Portugal<br>9397\"],\"type\":\"scattergeo\"}],                        {\"template\":{\"data\":{\"histogram2dcontour\":[{\"type\":\"histogram2dcontour\",\"colorbar\":{\"outlinewidth\":0,\"ticks\":\"\"},\"colorscale\":[[0.0,\"#0d0887\"],[0.1111111111111111,\"#46039f\"],[0.2222222222222222,\"#7201a8\"],[0.3333333333333333,\"#9c179e\"],[0.4444444444444444,\"#bd3786\"],[0.5555555555555556,\"#d8576b\"],[0.6666666666666666,\"#ed7953\"],[0.7777777777777778,\"#fb9f3a\"],[0.8888888888888888,\"#fdca26\"],[1.0,\"#f0f921\"]]}],\"choropleth\":[{\"type\":\"choropleth\",\"colorbar\":{\"outlinewidth\":0,\"ticks\":\"\"}}],\"histogram2d\":[{\"type\":\"histogram2d\",\"colorbar\":{\"outlinewidth\":0,\"ticks\":\"\"},\"colorscale\":[[0.0,\"#0d0887\"],[0.1111111111111111,\"#46039f\"],[0.2222222222222222,\"#7201a8\"],[0.3333333333333333,\"#9c179e\"],[0.4444444444444444,\"#bd3786\"],[0.5555555555555556,\"#d8576b\"],[0.6666666666666666,\"#ed7953\"],[0.7777777777777778,\"#fb9f3a\"],[0.8888888888888888,\"#fdca26\"],[1.0,\"#f0f921\"]]}],\"heatmap\":[{\"type\":\"heatmap\",\"colorbar\":{\"outlinewidth\":0,\"ticks\":\"\"},\"colorscale\":[[0.0,\"#0d0887\"],[0.1111111111111111,\"#46039f\"],[0.2222222222222222,\"#7201a8\"],[0.3333333333333333,\"#9c179e\"],[0.4444444444444444,\"#bd3786\"],[0.5555555555555556,\"#d8576b\"],[0.6666666666666666,\"#ed7953\"],[0.7777777777777778,\"#fb9f3a\"],[0.8888888888888888,\"#fdca26\"],[1.0,\"#f0f921\"]]}],\"heatmapgl\":[{\"type\":\"heatmapgl\",\"colorbar\":{\"outlinewidth\":0,\"ticks\":\"\"},\"colorscale\":[[0.0,\"#0d0887\"],[0.1111111111111111,\"#46039f\"],[0.2222222222222222,\"#7201a8\"],[0.3333333333333333,\"#9c179e\"],[0.4444444444444444,\"#bd3786\"],[0.5555555555555556,\"#d8576b\"],[0.6666666666666666,\"#ed7953\"],[0.7777777777777778,\"#fb9f3a\"],[0.8888888888888888,\"#fdca26\"],[1.0,\"#f0f921\"]]}],\"contourcarpet\":[{\"type\":\"contourcarpet\",\"colorbar\":{\"outlinewidth\":0,\"ticks\":\"\"}}],\"contour\":[{\"type\":\"contour\",\"colorbar\":{\"outlinewidth\":0,\"ticks\":\"\"},\"colorscale\":[[0.0,\"#0d0887\"],[0.1111111111111111,\"#46039f\"],[0.2222222222222222,\"#7201a8\"],[0.3333333333333333,\"#9c179e\"],[0.4444444444444444,\"#bd3786\"],[0.5555555555555556,\"#d8576b\"],[0.6666666666666666,\"#ed7953\"],[0.7777777777777778,\"#fb9f3a\"],[0.8888888888888888,\"#fdca26\"],[1.0,\"#f0f921\"]]}],\"surface\":[{\"type\":\"surface\",\"colorbar\":{\"outlinewidth\":0,\"ticks\":\"\"},\"colorscale\":[[0.0,\"#0d0887\"],[0.1111111111111111,\"#46039f\"],[0.2222222222222222,\"#7201a8\"],[0.3333333333333333,\"#9c179e\"],[0.4444444444444444,\"#bd3786\"],[0.5555555555555556,\"#d8576b\"],[0.6666666666666666,\"#ed7953\"],[0.7777777777777778,\"#fb9f3a\"],[0.8888888888888888,\"#fdca26\"],[1.0,\"#f0f921\"]]}],\"mesh3d\":[{\"type\":\"mesh3d\",\"colorbar\":{\"outlinewidth\":0,\"ticks\":\"\"}}],\"scatter\":[{\"fillpattern\":{\"fillmode\":\"overlay\",\"size\":10,\"solidity\":0.2},\"type\":\"scatter\"}],\"parcoords\":[{\"type\":\"parcoords\",\"line\":{\"colorbar\":{\"outlinewidth\":0,\"ticks\":\"\"}}}],\"scatterpolargl\":[{\"type\":\"scatterpolargl\",\"marker\":{\"colorbar\":{\"outlinewidth\":0,\"ticks\":\"\"}}}],\"bar\":[{\"error_x\":{\"color\":\"#2a3f5f\"},\"error_y\":{\"color\":\"#2a3f5f\"},\"marker\":{\"line\":{\"color\":\"#E5ECF6\",\"width\":0.5},\"pattern\":{\"fillmode\":\"overlay\",\"size\":10,\"solidity\":0.2}},\"type\":\"bar\"}],\"scattergeo\":[{\"type\":\"scattergeo\",\"marker\":{\"colorbar\":{\"outlinewidth\":0,\"ticks\":\"\"}}}],\"scatterpolar\":[{\"type\":\"scatterpolar\",\"marker\":{\"colorbar\":{\"outlinewidth\":0,\"ticks\":\"\"}}}],\"histogram\":[{\"marker\":{\"pattern\":{\"fillmode\":\"overlay\",\"size\":10,\"solidity\":0.2}},\"type\":\"histogram\"}],\"scattergl\":[{\"type\":\"scattergl\",\"marker\":{\"colorbar\":{\"outlinewidth\":0,\"ticks\":\"\"}}}],\"scatter3d\":[{\"type\":\"scatter3d\",\"line\":{\"colorbar\":{\"outlinewidth\":0,\"ticks\":\"\"}},\"marker\":{\"colorbar\":{\"outlinewidth\":0,\"ticks\":\"\"}}}],\"scattermapbox\":[{\"type\":\"scattermapbox\",\"marker\":{\"colorbar\":{\"outlinewidth\":0,\"ticks\":\"\"}}}],\"scatterternary\":[{\"type\":\"scatterternary\",\"marker\":{\"colorbar\":{\"outlinewidth\":0,\"ticks\":\"\"}}}],\"scattercarpet\":[{\"type\":\"scattercarpet\",\"marker\":{\"colorbar\":{\"outlinewidth\":0,\"ticks\":\"\"}}}],\"carpet\":[{\"aaxis\":{\"endlinecolor\":\"#2a3f5f\",\"gridcolor\":\"white\",\"linecolor\":\"white\",\"minorgridcolor\":\"white\",\"startlinecolor\":\"#2a3f5f\"},\"baxis\":{\"endlinecolor\":\"#2a3f5f\",\"gridcolor\":\"white\",\"linecolor\":\"white\",\"minorgridcolor\":\"white\",\"startlinecolor\":\"#2a3f5f\"},\"type\":\"carpet\"}],\"table\":[{\"cells\":{\"fill\":{\"color\":\"#EBF0F8\"},\"line\":{\"color\":\"white\"}},\"header\":{\"fill\":{\"color\":\"#C8D4E3\"},\"line\":{\"color\":\"white\"}},\"type\":\"table\"}],\"barpolar\":[{\"marker\":{\"line\":{\"color\":\"#E5ECF6\",\"width\":0.5},\"pattern\":{\"fillmode\":\"overlay\",\"size\":10,\"solidity\":0.2}},\"type\":\"barpolar\"}],\"pie\":[{\"automargin\":true,\"type\":\"pie\"}]},\"layout\":{\"autotypenumbers\":\"strict\",\"colorway\":[\"#636efa\",\"#EF553B\",\"#00cc96\",\"#ab63fa\",\"#FFA15A\",\"#19d3f3\",\"#FF6692\",\"#B6E880\",\"#FF97FF\",\"#FECB52\"],\"font\":{\"color\":\"#2a3f5f\"},\"hovermode\":\"closest\",\"hoverlabel\":{\"align\":\"left\"},\"paper_bgcolor\":\"white\",\"plot_bgcolor\":\"#E5ECF6\",\"polar\":{\"bgcolor\":\"#E5ECF6\",\"angularaxis\":{\"gridcolor\":\"white\",\"linecolor\":\"white\",\"ticks\":\"\"},\"radialaxis\":{\"gridcolor\":\"white\",\"linecolor\":\"white\",\"ticks\":\"\"}},\"ternary\":{\"bgcolor\":\"#E5ECF6\",\"aaxis\":{\"gridcolor\":\"white\",\"linecolor\":\"white\",\"ticks\":\"\"},\"baxis\":{\"gridcolor\":\"white\",\"linecolor\":\"white\",\"ticks\":\"\"},\"caxis\":{\"gridcolor\":\"white\",\"linecolor\":\"white\",\"ticks\":\"\"}},\"coloraxis\":{\"colorbar\":{\"outlinewidth\":0,\"ticks\":\"\"}},\"colorscale\":{\"sequential\":[[0.0,\"#0d0887\"],[0.1111111111111111,\"#46039f\"],[0.2222222222222222,\"#7201a8\"],[0.3333333333333333,\"#9c179e\"],[0.4444444444444444,\"#bd3786\"],[0.5555555555555556,\"#d8576b\"],[0.6666666666666666,\"#ed7953\"],[0.7777777777777778,\"#fb9f3a\"],[0.8888888888888888,\"#fdca26\"],[1.0,\"#f0f921\"]],\"sequentialminus\":[[0.0,\"#0d0887\"],[0.1111111111111111,\"#46039f\"],[0.2222222222222222,\"#7201a8\"],[0.3333333333333333,\"#9c179e\"],[0.4444444444444444,\"#bd3786\"],[0.5555555555555556,\"#d8576b\"],[0.6666666666666666,\"#ed7953\"],[0.7777777777777778,\"#fb9f3a\"],[0.8888888888888888,\"#fdca26\"],[1.0,\"#f0f921\"]],\"diverging\":[[0,\"#8e0152\"],[0.1,\"#c51b7d\"],[0.2,\"#de77ae\"],[0.3,\"#f1b6da\"],[0.4,\"#fde0ef\"],[0.5,\"#f7f7f7\"],[0.6,\"#e6f5d0\"],[0.7,\"#b8e186\"],[0.8,\"#7fbc41\"],[0.9,\"#4d9221\"],[1,\"#276419\"]]},\"xaxis\":{\"gridcolor\":\"white\",\"linecolor\":\"white\",\"ticks\":\"\",\"title\":{\"standoff\":15},\"zerolinecolor\":\"white\",\"automargin\":true,\"zerolinewidth\":2},\"yaxis\":{\"gridcolor\":\"white\",\"linecolor\":\"white\",\"ticks\":\"\",\"title\":{\"standoff\":15},\"zerolinecolor\":\"white\",\"automargin\":true,\"zerolinewidth\":2},\"scene\":{\"xaxis\":{\"backgroundcolor\":\"#E5ECF6\",\"gridcolor\":\"white\",\"linecolor\":\"white\",\"showbackground\":true,\"ticks\":\"\",\"zerolinecolor\":\"white\",\"gridwidth\":2},\"yaxis\":{\"backgroundcolor\":\"#E5ECF6\",\"gridcolor\":\"white\",\"linecolor\":\"white\",\"showbackground\":true,\"ticks\":\"\",\"zerolinecolor\":\"white\",\"gridwidth\":2},\"zaxis\":{\"backgroundcolor\":\"#E5ECF6\",\"gridcolor\":\"white\",\"linecolor\":\"white\",\"showbackground\":true,\"ticks\":\"\",\"zerolinecolor\":\"white\",\"gridwidth\":2}},\"shapedefaults\":{\"line\":{\"color\":\"#2a3f5f\"}},\"annotationdefaults\":{\"arrowcolor\":\"#2a3f5f\",\"arrowhead\":0,\"arrowwidth\":1},\"geo\":{\"bgcolor\":\"white\",\"landcolor\":\"#E5ECF6\",\"subunitcolor\":\"white\",\"showland\":true,\"showlakes\":true,\"lakecolor\":\"white\"},\"title\":{\"x\":0.05},\"mapbox\":{\"style\":\"light\"}}},\"height\":1000},                        {\"responsive\": true}                    )                };                            </script>        </div>\n",
       "</body>\n",
       "</html>"
      ]
     },
     "metadata": {},
     "output_type": "display_data"
    }
   ],
   "source": [
    "fig.show()"
   ]
  }
 ],
 "metadata": {
  "application/vnd.databricks.v1+notebook": {
   "dashboards": [],
   "environmentMetadata": {
    "base_environment": "",
    "client": "1",
    "dependencies": [
     "geopy",
     "numpy",
     "pandas",
     "plotly"
    ]
   },
   "language": "python",
   "notebookMetadata": {
    "pythonIndentUnit": 4
   },
   "notebookName": "Databricks-GCP",
   "widgets": {}
  },
  "language_info": {
   "name": "python"
  }
 },
 "nbformat": 4,
 "nbformat_minor": 0
}
